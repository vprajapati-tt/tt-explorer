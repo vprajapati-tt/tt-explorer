{
 "cells": [
  {
   "cell_type": "markdown",
   "id": "ff8f8287-2382-422a-8b0b-10c60d6d9aeb",
   "metadata": {},
   "source": [
    "# TT-Explorer\n",
    "\n",
    "This notebook helps to highlight the functionality of the tt-explorer development space, where a model-explorer visualizer is paired with a TT MLIR dialect to visualize and modify compiled TT Graphs. \n",
    "\n",
    "## How to run\n",
    "Please use the tt-explorer notebook option"
   ]
  },
  {
   "cell_type": "code",
   "execution_count": 7,
   "id": "a9e7c7bc-7e91-4782-8a09-27cdd1f2360b",
   "metadata": {},
   "outputs": [
    {
     "name": "stdout",
     "output_type": "stream",
     "text": [
      "/Users/vprajapati/Documents/tt-explorer/third_party/tt-mlir\n",
      "/Users/vprajapati/Documents/tt-explorer\n"
     ]
    }
   ],
   "source": [
    "# This"
   ]
  },
  {
   "cell_type": "code",
   "execution_count": null,
   "id": "909b4d89-dc78-4ae3-85a6-e31d7c7944bb",
   "metadata": {},
   "outputs": [],
   "source": []
  }
 ],
 "metadata": {
  "kernelspec": {
   "display_name": "Python 3 (ipykernel)",
   "language": "python",
   "name": "python3"
  },
  "language_info": {
   "codemirror_mode": {
    "name": "ipython",
    "version": 3
   },
   "file_extension": ".py",
   "mimetype": "text/x-python",
   "name": "python",
   "nbconvert_exporter": "python",
   "pygments_lexer": "ipython3",
   "version": "3.9.19"
  }
 },
 "nbformat": 4,
 "nbformat_minor": 5
}
