{
 "cells": [
  {
   "cell_type": "markdown",
   "id": "ff8f8287-2382-422a-8b0b-10c60d6d9aeb",
   "metadata": {},
   "source": [
    "# TT-Explorer\n",
    "\n",
    "This notebook helps to highlight the functionality of the tt-explorer development space, where a model-explorer visualizer is paired with a TT MLIR dialect to visualize and modify compiled TT Graphs. \n",
    "\n",
    "## How to run\n",
    "Please use the tt-explorer notebook option"
   ]
  },
  {
   "cell_type": "code",
   "execution_count": 1,
   "id": "a9e7c7bc-7e91-4782-8a09-27cdd1f2360b",
   "metadata": {},
   "outputs": [
    {
     "name": "stdout",
     "output_type": "stream",
     "text": [
      "Loading extensions...\n",
      "Loaded 9 extensions:\n",
      " - TFLite adapter (Flatbuffer)\n",
      " - TFLite adapter (MLIR)\n",
      " - TF adapter (MLIR)\n",
      " - TF adapter (direct)\n",
      " - GraphDef adapter\n",
      " - Pytorch adapter (exported program)\n",
      " - MLIR adapter\n",
      " - Tenstorrent Adapter\n",
      " - JSON adapter\n",
      "\n",
      "Starting Model Explorer server at:\n",
      "http://localhost:5006\n",
      "\n",
      "Press Ctrl+C to stop.\n"
     ]
    },
    {
     "name": "stderr",
     "output_type": "stream",
     "text": [
      "Traceback (most recent call last):\n",
      "  File \"/opt/ttmlir-toolchain/venv/lib/python3.12/site-packages/model_explorer/server.py\", line 208, in send_command\n",
      "    resp = extension_manager.run_cmd(request.json)\n",
      "           ^^^^^^^^^^^^^^^^^^^^^^^^^^^^^^^^^^^^^^^\n",
      "  File \"/opt/ttmlir-toolchain/venv/lib/python3.12/site-packages/model_explorer/extension_manager.py\", line 82, in run_cmd\n",
      "    resp = self.adapter_runner.run_adapter(\n",
      "           ^^^^^^^^^^^^^^^^^^^^^^^^^^^^^^^^\n",
      "  File \"/opt/ttmlir-toolchain/venv/lib/python3.12/site-packages/model_explorer/adapter_runner.py\", line 37, in run_adapter\n",
      "    return fn(modelPath, cmd['settings'])\n",
      "           ^^^^^^^^^^^^^^^^^^^^^^^^^^^^^^\n",
      "  File \"/opt/ttmlir-toolchain/venv/lib/python3.12/site-packages/tt_adapter/main.py\", line 38, in convert\n",
      "    module = ir.Module.parse(\"\".join(f.readlines()), ctx)\n",
      "             ^^^^^^^^^^^^^^^^^^^^^^^^^^^^^^^^^^^^^^^^^^^^\n",
      "ttmlir._mlir_libs._site_initialize.<locals>.MLIRError: Unable to parse module assembly:\n",
      "error: \"-\":2:91: expected '{'\n",
      "error: \"-\":2:91: failed to parse TT_SystemDescAttr parameter 'chipDescs' which is to be a `::llvm::ArrayRef<ChipDescAttr>`\n",
      "Traceback (most recent call last):\n",
      "  File \"/opt/ttmlir-toolchain/venv/lib/python3.12/site-packages/model_explorer/server.py\", line 208, in send_command\n",
      "    resp = extension_manager.run_cmd(request.json)\n",
      "           ^^^^^^^^^^^^^^^^^^^^^^^^^^^^^^^^^^^^^^^\n",
      "  File \"/opt/ttmlir-toolchain/venv/lib/python3.12/site-packages/model_explorer/extension_manager.py\", line 82, in run_cmd\n",
      "    resp = self.adapter_runner.run_adapter(\n",
      "           ^^^^^^^^^^^^^^^^^^^^^^^^^^^^^^^^\n",
      "  File \"/opt/ttmlir-toolchain/venv/lib/python3.12/site-packages/model_explorer/adapter_runner.py\", line 37, in run_adapter\n",
      "    return fn(modelPath, cmd['settings'])\n",
      "           ^^^^^^^^^^^^^^^^^^^^^^^^^^^^^^\n",
      "  File \"/opt/ttmlir-toolchain/venv/lib/python3.12/site-packages/tt_adapter/main.py\", line 38, in convert\n",
      "    module = ir.Module.parse(\"\".join(f.readlines()), ctx)\n",
      "             ^^^^^^^^^^^^^^^^^^^^^^^^^^^^^^^^^^^^^^^^^^^^\n",
      "ttmlir._mlir_libs._site_initialize.<locals>.MLIRError: Unable to parse module assembly:\n",
      "error: \"-\":2:91: expected '{'\n",
      "error: \"-\":2:91: failed to parse TT_SystemDescAttr parameter 'chipDescs' which is to be a `::llvm::ArrayRef<ChipDescAttr>`\n"
     ]
    }
   ],
   "source": [
    "from tt_explorer import TTExplorer\n",
    "\n",
    "explorer = TTExplorer()"
   ]
  },
  {
   "cell_type": "code",
   "execution_count": 2,
   "id": "909b4d89-dc78-4ae3-85a6-e31d7c7944bb",
   "metadata": {},
   "outputs": [],
   "source": [
    "from tt_explorer import embed_in_notebook\n",
    "\n",
    "f = open('./ttir/tosa-to-ttir.ttir')\n",
    "\n",
    "model_path = explorer.get_model_path(f)"
   ]
  },
  {
   "cell_type": "code",
   "execution_count": 4,
   "id": "6cc873c8-a9df-46e1-8aa5-2ae3141006a6",
   "metadata": {},
   "outputs": [
    {
     "data": {
      "text/plain": [
       "'http://localhost:5006/?show_open_in_new_tab=1&data=%7B%22models%22%3A%20%5B%7B%22url%22%3A%20%22/var/folders/70/wmlpndm90dxf75qdd589g1mr0000gp/T/tmpt9k84s2w/tosa-to-ttir.ttir%22%7D%5D%2C%20%22nodeData%22%3A%20%5B%5D%7D'"
      ]
     },
     "execution_count": 4,
     "metadata": {},
     "output_type": "execute_result"
    }
   ],
   "source": [
    "explorer.get_rendered_url(model_path)"
   ]
  },
  {
   "cell_type": "code",
   "execution_count": 5,
   "id": "67191293-ac69-49e9-888a-4d211fb073c7",
   "metadata": {},
   "outputs": [
    {
     "data": {
      "text/html": [
       "\n",
       "        <iframe\n",
       "            width=\"900\"\n",
       "            height=\"500\"\n",
       "            src=\"http://localhost:5006/?show_open_in_new_tab=1&data=%7B%22models%22%3A%20%5B%7B%22url%22%3A%20%22/var/folders/70/wmlpndm90dxf75qdd589g1mr0000gp/T/tmp0d2zmhlb/tosa-to-ttir.ttir%22%7D%5D%2C%20%22nodeData%22%3A%20%5B%5D%7D\"\n",
       "            frameborder=\"0\"\n",
       "            allowfullscreen\n",
       "            \n",
       "        ></iframe>\n",
       "        "
      ],
      "text/plain": [
       "<IPython.lib.display.IFrame at 0x169d834a0>"
      ]
     },
     "execution_count": 5,
     "metadata": {},
     "output_type": "execute_result"
    }
   ],
   "source": [
    "f.close()\n",
    "f = open('./ttir/tosa-to-ttir.ttir', 'r')\n",
    "\n",
    "model_path = explorer.get_model_path(f)\n",
    "\n",
    "embed_in_notebook(explorer, model_path)"
   ]
  },
  {
   "cell_type": "code",
   "execution_count": null,
   "id": "6543aa94-2c93-4588-8dc5-c7dd42e19032",
   "metadata": {},
   "outputs": [],
   "source": []
  }
 ],
 "metadata": {
  "kernelspec": {
   "display_name": "Python 3 (ipykernel)",
   "language": "python",
   "name": "python3"
  },
  "language_info": {
   "codemirror_mode": {
    "name": "ipython",
    "version": 3
   },
   "file_extension": ".py",
   "mimetype": "text/x-python",
   "name": "python",
   "nbconvert_exporter": "python",
   "pygments_lexer": "ipython3",
   "version": "3.12.3"
  }
 },
 "nbformat": 4,
 "nbformat_minor": 5
}
