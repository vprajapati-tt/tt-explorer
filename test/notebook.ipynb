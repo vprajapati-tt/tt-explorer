{
 "cells": [
  {
   "cell_type": "markdown",
   "id": "ff8f8287-2382-422a-8b0b-10c60d6d9aeb",
   "metadata": {},
   "source": [
    "# TT-Explorer\n",
    "\n",
    "This notebook helps to highlight the functionality of the tt-explorer development space, where a model-explorer visualizer is paired with a TT MLIR dialect to visualize and modify compiled TT Graphs. \n",
    "\n",
    "## How to run\n",
    "Please use the tt-explorer notebook option"
   ]
  },
  {
   "cell_type": "code",
   "execution_count": null,
   "id": "a9e7c7bc-7e91-4782-8a09-27cdd1f2360b",
   "metadata": {},
   "outputs": [],
   "source": [
    "from tt_explorer import TTExplorer\n",
    "\n",
    "explorer = TTExplorer()"
   ]
  },
  {
   "cell_type": "code",
   "execution_count": 2,
   "id": "909b4d89-dc78-4ae3-85a6-e31d7c7944bb",
   "metadata": {},
   "outputs": [],
   "source": [
    "from tt_explorer import embed_in_notebook\n",
    "\n",
    "f = open('./ttir/tosa-to-ttir.ttir')\n",
    "\n",
    "model_path = explorer.get_model_path(f)"
   ]
  },
  {
   "cell_type": "code",
   "execution_count": null,
   "id": "6cc873c8-a9df-46e1-8aa5-2ae3141006a6",
   "metadata": {},
   "outputs": [],
   "source": [
    "explorer.get_rendered_url(model_path)"
   ]
  },
  {
   "cell_type": "code",
   "execution_count": null,
   "id": "67191293-ac69-49e9-888a-4d211fb073c7",
   "metadata": {},
   "outputs": [],
   "source": [
    "embed_in_notebook(explorer, model_path)"
   ]
  },
  {
   "cell_type": "code",
   "execution_count": null,
   "id": "f118440a",
   "metadata": {},
   "outputs": [],
   "source": [
    "graph = explorer.get_graph(model_path)\n",
    "execution_result = explorer.execute_model(model_path)"
   ]
  }
 ],
 "metadata": {
  "kernelspec": {
   "display_name": "Python 3 (ipykernel)",
   "language": "python",
   "name": "python3"
  }
 },
 "nbformat": 4,
 "nbformat_minor": 5
}
