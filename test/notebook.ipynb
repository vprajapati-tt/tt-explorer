{
 "cells": [
  {
   "cell_type": "markdown",
   "id": "ff8f8287-2382-422a-8b0b-10c60d6d9aeb",
   "metadata": {},
   "source": [
    "# TT-Explorer\n",
    "\n",
    "This notebook helps to highlight the functionality of the tt-explorer development space, where a model-explorer visualizer is paired with a TT MLIR dialect to visualize and modify compiled TT Graphs. For more documentation and information about the tool itself, please refer to the Wiki page.\n",
    "\n",
    "## How to run\n",
    "**Must be run in `tt-mlir` virtualenv since `TTExplorer(server=True)` will spin up a server instance dependant on `ttrt` and `tt-mlir`**\n",
    "\n",
    "Run the cells in sequential order below, each cell will use comments to explain key points of functionality using the `tt-explorer` API."
   ]
  },
  {
   "cell_type": "code",
   "execution_count": null,
   "id": "a9e7c7bc-7e91-4782-8a09-27cdd1f2360b",
   "metadata": {},
   "outputs": [],
   "source": [
    "from tt_explorer import TTExplorer\n",
    "\n",
    "# Creates an explorer object that stores the endpoints to access the Model Explorer server\n",
    "# The server parameter is set to True to start the server\n",
    "explorer = TTExplorer(server=True)"
   ]
  },
  {
   "cell_type": "code",
   "execution_count": null,
   "id": "909b4d89-dc78-4ae3-85a6-e31d7c7944bb",
   "metadata": {},
   "outputs": [],
   "source": [
    "from tt_explorer import embed_in_notebook\n",
    "\n",
    "# Initialize the explorer so SystemDesc is saved to the server \n",
    "explorer.initialize()\n",
    "\n",
    "# Opens the TTIR module, and uploads it to the server to be processed.\n",
    "f = open('./ttir/tosa-to-ttir.ttir')\n",
    "model_path = explorer.get_model_path(f)"
   ]
  },
  {
   "cell_type": "code",
   "execution_count": null,
   "id": "6cc873c8-a9df-46e1-8aa5-2ae3141006a6",
   "metadata": {},
   "outputs": [],
   "source": [
    "# Provides a URL to Model Explorer with the visualization loaded\n",
    "explorer.get_rendered_url(model_path)"
   ]
  },
  {
   "cell_type": "code",
   "execution_count": null,
   "id": "67191293-ac69-49e9-888a-4d211fb073c7",
   "metadata": {},
   "outputs": [],
   "source": [
    "# Embeds a visualization URL into the notebook for users to interact and visualize the model in 1 place\n",
    "embed_in_notebook(explorer, model_path)"
   ]
  },
  {
   "cell_type": "code",
   "execution_count": null,
   "id": "f118440a",
   "metadata": {},
   "outputs": [],
   "source": [
    "# Send a command to Model Explorer to return the JSON representation of the graph\n",
    "graph = explorer.get_graph(model_path)\n",
    "\n",
    "# Send a command to Model Explorer to execute the model, returns STDOUT, Log, and Perf Trace for further analysis\n",
    "execution_result = explorer.execute_model(model_path)"
   ]
  }
 ],
 "metadata": {
  "kernelspec": {
   "display_name": "Python 3 (ipykernel)",
   "language": "python",
   "name": "python3"
  },
  "language_info": {
   "codemirror_mode": {
    "name": "ipython",
    "version": 3
   },
   "file_extension": ".py",
   "mimetype": "text/x-python",
   "name": "python",
   "nbconvert_exporter": "python",
   "pygments_lexer": "ipython3",
   "version": "3.10.12"
  }
 },
 "nbformat": 4,
 "nbformat_minor": 5
}
